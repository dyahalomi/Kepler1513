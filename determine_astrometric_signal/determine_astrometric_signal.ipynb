{
 "cells": [
  {
   "cell_type": "code",
   "execution_count": 49,
   "metadata": {},
   "outputs": [],
   "source": [
    "import numpy as np\n",
    "import matplotlib.pyplot as plt\n",
    "import matplotlib\n",
    "from matplotlib import ticker\n",
    "# use latex for font rendering\n",
    "matplotlib.rc('font', **{'family': 'serif', 'serif': ['Computer Modern']})\n",
    "matplotlib.rc('text', usetex=True)\n"
   ]
  },
  {
   "cell_type": "markdown",
   "metadata": {},
   "source": [
    "In the above equations, θ is the astrometric signal of a planet. If we take the mass of the planet to be “mp” orbiting a star with mass “m⋆” and assume a circular orbit and that mp ≪ m⋆. At a distance “d” from the observer and a radius “a,” the astrometric signal, θ equals..."
   ]
  },
  {
   "cell_type": "markdown",
   "metadata": {},
   "source": [
    "signal = 3 micro-as * (m_p/m_earth)*(m_star/m_sun)^(-2/3)*(P/year)^(2/3)*(d/pc)^(-1)"
   ]
  },
  {
   "cell_type": "code",
   "execution_count": 50,
   "metadata": {},
   "outputs": [],
   "source": [
    "from astropy.constants import M_jup, M_earth, M_sun\n",
    "\n",
    "\n",
    "colors = [\"#efb734\", \"#0156c7\"]\n",
    "\n",
    "linestyles = ['solid', 'solid']\n",
    "\n",
    "m_p = [0.152 * M_jup/M_earth,\n",
    "       0.266 * M_jup/M_earth]\n",
    "\n",
    "m_p_err = [0.096 * M_jup/M_earth,\n",
    "          0.086 * M_jup/M_earth]\n",
    "       \n",
    "period_astrometry = [160.88420/365,\n",
    "                    841.42/365]\n",
    "\n",
    "#parallax [mas] = 2.8446 [0.0134] A 2020yCat.1350....0G\n",
    "distance = 1/0.0028446\n",
    "m_s = 0.94\n",
    "\n",
    "\n"
   ]
  },
  {
   "cell_type": "code",
   "execution_count": null,
   "metadata": {},
   "outputs": [],
   "source": []
  },
  {
   "cell_type": "code",
   "execution_count": 51,
   "metadata": {},
   "outputs": [],
   "source": [
    "astrom_signals = []\n",
    "for ii in range(0, len(m_p)):\n",
    "    astrometric_signal = 3 * (m_p[ii])*(m_s)**(-2/3)*(period_astrometry[ii])**(2/3)*(distance)**(-1)\n",
    "    astrom_signals.append(astrometric_signal)\n",
    "    \n",
    "astrom_signals_low = []\n",
    "for ii in range(0, len(m_p)):\n",
    "    astrometric_signal = 3 * (m_p[ii]-m_p_err[ii])*(m_s)**(-2/3)*(period_astrometry[ii])**(2/3)*(distance)**(-1)\n",
    "    astrom_signals_low.append(astrometric_signal)\n",
    "    \n",
    "    \n",
    "astrom_signals_high = []\n",
    "for ii in range(0, len(m_p)):\n",
    "    astrometric_signal = 3 * (m_p[ii]+m_p_err[ii])*(m_s)**(-2/3)*(period_astrometry[ii])**(2/3)*(distance)**(-1)\n",
    "    astrom_signals_high.append(astrometric_signal)\n",
    "    \n",
    "    \n",
    "    \n",
    "yerrs1 = np.array(astrom_signals_high)-np.array(astrom_signals)\n",
    "yerrs2 = np.array(astrom_signals)-np.array(astrom_signals_low)\n",
    "\n",
    "if yerrs1.all() == yerrs2.all():\n",
    "    yerrs = yerrs1\n",
    "    \n",
    "else:\n",
    "    print('error, yerrs dont match!!!')"
   ]
  },
  {
   "cell_type": "code",
   "execution_count": 52,
   "metadata": {},
   "outputs": [
    {
     "data": {
      "image/png": "[encoded data removed]",
      "text/plain": [
       "<Figure size 648x504 with 1 Axes>"
      ]
     },
     "metadata": {
      "needs_background": "light"
     },
     "output_type": "display_data"
    }
   ],
   "source": [
    "fig, ax = plt.subplots(figsize = [9, 7])\n",
    "\n",
    "for ii in range(0, len(m_p)):\n",
    "    plt.errorbar([1,3][ii], astrom_signals[ii], yerr = yerrs[ii], color = colors[ii], \n",
    "                 ls='', marker='o', ms=13, capsize=5)\n",
    "\n",
    "plt.yscale('log')\n",
    "\n",
    "ax.get_yaxis().set_major_formatter(\n",
    "    matplotlib.ticker.FuncFormatter(lambda x, p: format((x), ',')))\n",
    "\n",
    "ax.get_xaxis().set_major_formatter(\n",
    "    matplotlib.ticker.FuncFormatter(lambda x, p: format((x), ',')))\n",
    "\n",
    "#plt.ylim(1, 500)\n",
    "plt.xlim(0, 4)\n",
    "# Remove other x-axis ticks\n",
    "plt.gca().xaxis.set_ticks([])\n",
    "\n",
    "# Customize the x-axis ticks\n",
    "plt.xticks([1, 3], [r'Kepler-1513$\\,b$', r'Kepler-1513$\\,c$'], rotation = 0)\n",
    "\n",
    "\n",
    "\n",
    "\n",
    "plt.axhline(60, 0, 1, color='k', lw=2, ls='--')\n",
    "plt.text(0.1, 69, r'Gaia 1$\\sigma$ measurement error $\\sim$ 60 $\\mu$as', fontsize=18, fontweight='bold')\n",
    "\n",
    "plt.axhline(5, 0, 1, color='k', lw=2, ls='--')\n",
    "plt.axhline(20, 0, 1, color='k', lw=2, ls='--')\n",
    "plt.axhspan(5, 20, 0, 1, color='k', lw=2, alpha=0.3)\n",
    "plt.text(0.1, 23, r'Roman 1$\\sigma$ measurement error $\\sim$ 5 to 20 $\\mu$as', fontsize=18, fontweight='bold')\n",
    "\n",
    "\n",
    "plt.xticks(fontsize=23)\n",
    "plt.yticks(fontsize=23)\n",
    "\n",
    "\n",
    "plt.title('Astrometric Signal: Circular Orbit', fontsize = 23)\n",
    "plt.ylabel(r'Astrometric Signal [$\\mu$as]', fontsize = 23)\n",
    "\n",
    "plt.tight_layout()\n",
    "plt.savefig('astrometric_signal.pdf')\n",
    "plt.show()"
   ]
  },
  {
   "cell_type": "code",
   "execution_count": 86,
   "metadata": {},
   "outputs": [],
   "source": [
    "from astropy import units as u\n",
    "from astropy.constants import G\n",
    "\n",
    "m_p = [0.152 * M_jup,\n",
    "       0.266 * M_jup]\n",
    "\n",
    "m_p_err = [0.096 * M_jup,\n",
    "          0.086 * M_jup]\n",
    "\n",
    "ecc = [0.31,\n",
    "      0.13]\n",
    "       \n",
    "period_astrometry = [(160.88420 * u.d).to(u.s),\n",
    "                    (841.42 * u.d).to(u.s)]\n",
    "\n",
    "#parallax [mas] = 2.8446 [0.0134] A 2020yCat.1350....0G\n",
    "distance = (1/0.0028446 * u.parsec)\n",
    "m_s = 0.94 * M_sun"
   ]
  },
  {
   "cell_type": "code",
   "execution_count": 87,
   "metadata": {},
   "outputs": [
    {
     "data": {
      "text/latex": [
       "$13900395 \\; \\mathrm{s}$"
      ],
      "text/plain": [
       "<Quantity 13900394.88 s>"
      ]
     },
     "execution_count": 87,
     "metadata": {},
     "output_type": "execute_result"
    }
   ],
   "source": [
    "period_astrometry[0]"
   ]
  },
  {
   "cell_type": "code",
   "execution_count": 88,
   "metadata": {},
   "outputs": [],
   "source": [
    "def get_semi_major_axis(period, mp, mstar, ecc):\n",
    "    a_third = ((G * (mp+mstar) * (period**2.)) / (4 * (np.pi**2.))) \n",
    "    a = a_third ** (1./3.)\n",
    "    \n",
    "    a_w_ecc = a / np.sqrt(1 - ecc**2.)\n",
    "    \n",
    "    return a_w_ecc\n"
   ]
  },
  {
   "cell_type": "code",
   "execution_count": 89,
   "metadata": {},
   "outputs": [],
   "source": [
    "def get_astrometric_signal(period, m_p, m_s, ecc, distance):\n",
    "    a_p = get_semi_major_axis(period, m_p, m_s, ecc)\n",
    "    a_p_au = a_p.to(u.au)\n",
    "\n",
    "    a_s = a_p * (m_p / m_s)\n",
    "    a_s_au = a_s.to(u.au)\n",
    "    \n",
    "    #use small angle approx to return astrom signal in microarcseconds\n",
    "    return (a_s_au/distance).value * 10**6.\n",
    "\n",
    "    "
   ]
  },
  {
   "cell_type": "code",
   "execution_count": 91,
   "metadata": {},
   "outputs": [
    {
     "name": "stdout",
     "output_type": "stream",
     "text": [
      "0.26192110517028194\n",
      "1.3242996609093927\n"
     ]
    }
   ],
   "source": [
    "for ii in range(0, len(m_p)):\n",
    "    print(get_astrometric_signal(period_astrometry[ii], \n",
    "                                 m_p[ii], \n",
    "                                 m_s, \n",
    "                                 ecc[ii], \n",
    "                                 distance))"
   ]
  },
  {
   "cell_type": "code",
   "execution_count": 82,
   "metadata": {},
   "outputs": [
    {
     "name": "stdout",
     "output_type": "stream",
     "text": [
      "351.5432749771497 pc\n",
      "84839940055.73225 m\n",
      "13095886.248192327 m\n",
      "\n",
      "0.5671199707505746 AU\n",
      "8.75270818961147e-05 AU\n",
      "\n",
      "1613.2294687970846 microarcseconds\n",
      "0.2489795371616879 microarcseconds\n"
     ]
    }
   ],
   "source": [
    "distance = (1/0.0028446 * u.parsec)\n",
    "\n",
    "print(distance)\n",
    "\n",
    "a_p = get_semi_major_axis(period_astrometry[0], m_p[0], m_s, 0.)\n",
    "a_p_au = a_p.to(u.au)\n",
    "\n",
    "mu = m_p[0]/m_s\n",
    "a_star = (mu / (1 + mu)) * a_p\n",
    "a_s = a_p * (m_p[0] / m_s)\n",
    "a_s_au = a_star.to(u.au)\n",
    "\n",
    "print(a_p)\n",
    "print(a_s)\n",
    "print('')\n",
    "\n",
    "print(a_p_au)\n",
    "print(a_s_au)\n",
    "print('')\n",
    "\n",
    "print((a_p_au/distance).value * 10**6., 'microarcseconds')\n",
    "print((a_s_au/distance).value * 10**6., 'microarcseconds')"
   ]
  },
  {
   "cell_type": "code",
   "execution_count": null,
   "metadata": {},
   "outputs": [],
   "source": []
  }
 ],
 "metadata": {
  "kernelspec": {
   "display_name": "Python 3 (ipykernel)",
   "language": "python",
   "name": "python3"
  },
  "language_info": {
   "codemirror_mode": {
    "name": "ipython",
    "version": 3
   },
   "file_extension": ".py",
   "mimetype": "text/x-python",
   "name": "python",
   "nbconvert_exporter": "python",
   "pygments_lexer": "ipython3",
   "version": "3.9.7"
  }
 },
 "nbformat": 4,
 "nbformat_minor": 2
}
