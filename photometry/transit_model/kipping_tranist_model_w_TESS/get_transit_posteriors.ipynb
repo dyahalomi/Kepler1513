{
 "cells": [
  {
   "cell_type": "code",
   "execution_count": 1,
   "id": "2f8e4e2c",
   "metadata": {},
   "outputs": [],
   "source": [
    "import numpy as np\n",
    "import pandas as pd"
   ]
  },
  {
   "cell_type": "code",
   "execution_count": 11,
   "id": "b973fece",
   "metadata": {},
   "outputs": [],
   "source": [
    "cols = [\n",
    "    'rp/r_star', \n",
    "    'rho_star',\n",
    "    'b',\n",
    "    'period (not sampling param)',\n",
    "    'tau_0 (not sampling param)',\n",
    "    'q1_kep',\n",
    "    'q2_kep',\n",
    "    'q1_baro',\n",
    "    'q2_baro',\n",
    "    'q1_baron',\n",
    "    'q2_baron',\n",
    "    'q1_tess',\n",
    "    'q2_tess',\n",
    "    'blend_tess',\n",
    "    't1',\n",
    "    't2',\n",
    "    't4',\n",
    "    't5',\n",
    "    't6',\n",
    "    't7',\n",
    "    't8',\n",
    "    't9',\n",
    "    't30',\n",
    "    'log-likelihood'\n",
    "]"
   ]
  },
  {
   "cell_type": "code",
   "execution_count": 16,
   "id": "e042a309",
   "metadata": {},
   "outputs": [
    {
     "name": "stderr",
     "output_type": "stream",
     "text": [
      "/Users/daniel/opt/anaconda3/lib/python3.9/site-packages/pandas/util/_decorators.py:311: ParserWarning: Falling back to the 'python' engine because the 'c' engine does not support regex separators (separators > 1 char and different from '\\s+' are interpreted as regex); you can avoid this warning by specifying engine='python'.\n",
      "  return func(*args, **kwargs)\n"
     ]
    }
   ],
   "source": [
    "posteriors = pd.read_csv('TTVplan-post_equal_weights.dat', names=cols, sep='    ', )"
   ]
  },
  {
   "cell_type": "code",
   "execution_count": 24,
   "id": "113a3416",
   "metadata": {},
   "outputs": [
    {
     "name": "stdout",
     "output_type": "stream",
     "text": [
      "160.8849999999999\n",
      "277.5\n"
     ]
    }
   ],
   "source": [
    "print(np.median(posteriors['period (not sampling param)']))\n",
    "print(np.median(posteriors['tau_0 (not sampling param)']) - 54833)"
   ]
  },
  {
   "cell_type": "code",
   "execution_count": 17,
   "id": "13f34b4f",
   "metadata": {},
   "outputs": [],
   "source": [
    "params = [\n",
    "    'rp/r_star', \n",
    "    'rho_star',\n",
    "    'b',\n",
    "    'q1_kep',\n",
    "    'q2_kep',\n",
    "    'q1_baro',\n",
    "    'q2_baro',\n",
    "    'q1_baron',\n",
    "    'q2_baron',\n",
    "    'q1_tess',\n",
    "    'q2_tess',\n",
    "    'blend_tess',\n",
    "    't1',\n",
    "    't2',\n",
    "    't4',\n",
    "    't5',\n",
    "    't6',\n",
    "    't7',\n",
    "    't8',\n",
    "    't9',\n",
    "    't30'\n",
    "]"
   ]
  },
  {
   "cell_type": "code",
   "execution_count": 21,
   "id": "75b330ff",
   "metadata": {},
   "outputs": [
    {
     "name": "stdout",
     "output_type": "stream",
     "text": [
      "rp/r_star\n",
      "0.07881464112625838\n",
      "0.00030134223881497866\n",
      "\n",
      "rho_star\n",
      "1305.333712718748\n",
      "38.42866518573811\n",
      "\n",
      "b\n",
      "0.1067113601892198\n",
      "0.07516229035840465\n",
      "\n",
      "q1_kep\n",
      "0.4461001991274555\n",
      "0.03999202816887027\n",
      "\n",
      "q2_kep\n",
      "0.3268335327396223\n",
      "0.0298866285129598\n",
      "\n",
      "q1_baro\n",
      "0.3642108631766159\n",
      "0.2600912682558809\n",
      "\n",
      "q2_baro\n",
      "0.5159508778847602\n",
      "0.2817050024769829\n",
      "\n",
      "q1_baron\n",
      "0.4998304052993988\n",
      "0.2874309694677896\n",
      "\n",
      "q2_baron\n",
      "0.5023442200619835\n",
      "0.28837985671165506\n",
      "\n",
      "q1_tess\n",
      "0.5054611812151922\n",
      "0.28743990960673016\n",
      "\n",
      "q2_tess\n",
      "0.4983198534283889\n",
      "0.2886772531288852\n",
      "\n",
      "blend_tess\n",
      "3.143416225366903\n",
      "2.4753656405303506\n",
      "\n",
      "t1\n",
      "277.5056306444312\n",
      "0.00039771283695060213\n",
      "\n",
      "t2\n",
      "438.38774825631117\n",
      "0.0004369332726709169\n",
      "\n",
      "t4\n",
      "760.1546056431034\n",
      "0.00046783455327361955\n",
      "\n",
      "t5\n",
      "921.0457617949796\n",
      "0.00040283722119058036\n",
      "\n",
      "t6\n",
      "1081.9294367745388\n",
      "0.0004242395673874898\n",
      "\n",
      "t7\n",
      "1242.808993201652\n",
      "0.00036505860294209965\n",
      "\n",
      "t8\n",
      "1403.7018584836915\n",
      "0.0004228409179926865\n",
      "\n",
      "t9\n",
      "1564.5776088458515\n",
      "0.0003686440785365897\n",
      "\n",
      "t30\n",
      "4943.10571477576\n",
      "0.006589676233796131\n",
      "\n"
     ]
    }
   ],
   "source": [
    "for param in params:\n",
    "    print(param)\n",
    "    if param[0] == 't':\n",
    "        print(np.median(posteriors[param])-54833)\n",
    "        print(np.std(posteriors[param]))\n",
    "    else:\n",
    "        print(np.median(posteriors[param]))\n",
    "        print(np.std(posteriors[param]))\n",
    "    print('')"
   ]
  },
  {
   "cell_type": "code",
   "execution_count": null,
   "id": "18ce5722",
   "metadata": {},
   "outputs": [],
   "source": []
  }
 ],
 "metadata": {
  "kernelspec": {
   "display_name": "Python 3 (ipykernel)",
   "language": "python",
   "name": "python3"
  },
  "language_info": {
   "codemirror_mode": {
    "name": "ipython",
    "version": 3
   },
   "file_extension": ".py",
   "mimetype": "text/x-python",
   "name": "python",
   "nbconvert_exporter": "python",
   "pygments_lexer": "ipython3",
   "version": "3.9.7"
  }
 },
 "nbformat": 4,
 "nbformat_minor": 5
}
