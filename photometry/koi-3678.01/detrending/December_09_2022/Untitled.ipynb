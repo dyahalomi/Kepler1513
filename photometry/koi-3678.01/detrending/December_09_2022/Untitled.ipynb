{
 "cells": [
  {
   "cell_type": "code",
   "execution_count": 2,
   "id": "38132b10",
   "metadata": {},
   "outputs": [],
   "source": [
    "import pandas as pd\n",
    "import numpy as np"
   ]
  },
  {
   "cell_type": "code",
   "execution_count": 15,
   "id": "8b750a85",
   "metadata": {},
   "outputs": [
    {
     "data": {
      "text/plain": [
       "array([['[383.8437972560931', 598.8404904019319, 762.6535576774479,\n",
       "        937.5436783129592, 1071.1813243664192, 1094.8633005153745,\n",
       "        1186.8665046295423, 1415.8686675408924, ' 1583.8833757460618]']],\n",
       "      dtype=object)"
      ]
     },
     "execution_count": 15,
     "metadata": {},
     "output_type": "execute_result"
    }
   ],
   "source": [
    "data = pd.read_csv('pdcsap_flux_problem_times.txt', header=None)\n",
    "data.to_numpy()"
   ]
  },
  {
   "cell_type": "code",
   "execution_count": 20,
   "id": "ab474a4b",
   "metadata": {},
   "outputs": [
    {
     "data": {
      "text/plain": [
       "array([ 383.84379726,  598.8404904 ,  762.65355768,  937.54367831,\n",
       "       1071.18132437, 1094.86330052, 1186.86650463, 1415.86866754,\n",
       "       1583.88337575])"
      ]
     },
     "execution_count": 20,
     "metadata": {},
     "output_type": "execute_result"
    }
   ],
   "source": [
    "np.loadtxt('pdcsap_flux_problem_times.txt', delimiter=',', dtype=float)"
   ]
  },
  {
   "cell_type": "code",
   "execution_count": 24,
   "id": "437df482",
   "metadata": {},
   "outputs": [],
   "source": [
    "import json\n",
    "with open('pdcsap_flux_problem_times.txt', 'r') as problem_file:\n",
    "        problem_times = json.load(problem_file)"
   ]
  },
  {
   "cell_type": "code",
   "execution_count": 25,
   "id": "186c056e",
   "metadata": {},
   "outputs": [
    {
     "data": {
      "text/plain": [
       "[383.8437972560931,\n",
       " 598.8404904019319,\n",
       " 762.6535576774479,\n",
       " 937.5436783129593,\n",
       " 1071.1813243664192,\n",
       " 1094.8633005153745,\n",
       " 1186.8665046295423,\n",
       " 1415.8686675408924,\n",
       " 1583.8833757460618]"
      ]
     },
     "execution_count": 25,
     "metadata": {},
     "output_type": "execute_result"
    }
   ],
   "source": [
    "problem_times"
   ]
  },
  {
   "cell_type": "code",
   "execution_count": 47,
   "id": "72f4a521",
   "metadata": {},
   "outputs": [],
   "source": [
    "t0s = np.genfromtxt('t0s.txt', delimiter=',')\n",
    "t0s = np.array([t0s])"
   ]
  },
  {
   "cell_type": "code",
   "execution_count": 48,
   "id": "21f32f99",
   "metadata": {},
   "outputs": [
    {
     "data": {
      "text/plain": [
       "1"
      ]
     },
     "execution_count": 48,
     "metadata": {},
     "output_type": "execute_result"
    }
   ],
   "source": [
    "t0s.ndim"
   ]
  },
  {
   "cell_type": "code",
   "execution_count": 49,
   "id": "326138f0",
   "metadata": {},
   "outputs": [
    {
     "data": {
      "text/plain": [
       "array([2459776.11])"
      ]
     },
     "execution_count": 49,
     "metadata": {},
     "output_type": "execute_result"
    }
   ],
   "source": [
    "t0s"
   ]
  },
  {
   "cell_type": "code",
   "execution_count": null,
   "id": "627f7e7c",
   "metadata": {},
   "outputs": [],
   "source": []
  }
 ],
 "metadata": {
  "kernelspec": {
   "display_name": "Python 3 (ipykernel)",
   "language": "python",
   "name": "python3"
  },
  "language_info": {
   "codemirror_mode": {
    "name": "ipython",
    "version": 3
   },
   "file_extension": ".py",
   "mimetype": "text/x-python",
   "name": "python",
   "nbconvert_exporter": "python",
   "pygments_lexer": "ipython3",
   "version": "3.9.7"
  }
 },
 "nbformat": 4,
 "nbformat_minor": 5
}
