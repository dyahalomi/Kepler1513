{
 "cells": [
  {
   "cell_type": "code",
   "execution_count": 1,
   "id": "43c715f3",
   "metadata": {},
   "outputs": [],
   "source": [
    "import numpy as np\n",
    "from matplotlib import pyplot as plt"
   ]
  },
  {
   "cell_type": "code",
   "execution_count": 2,
   "id": "3b77b0c1",
   "metadata": {},
   "outputs": [],
   "source": [
    "def super_period(P1, P2, j, k):\n",
    "    '''\n",
    "    inputs:\n",
    "    P1: [float] period 1\n",
    "    P2: [float] period 2\n",
    "    j: [int] integer\n",
    "    k: [int] integer\n",
    "    \n",
    "    outputs:\n",
    "    super period [float]\n",
    "    '''\n",
    "    \n",
    "    if j < k:\n",
    "        j_eq = j\n",
    "        k_eq = k\n",
    "    else:\n",
    "        k_eq = j\n",
    "        j_eq = k\n",
    "        \n",
    "    \n",
    "    if P1 < P2:\n",
    "        Pin = P1\n",
    "        Pout = P2\n",
    "    else:\n",
    "        Pout = P1\n",
    "        Pin = P2\n",
    "        \n",
    "    period = 1 / np.abs(j_eq/Pin - k_eq/Pout)\n",
    "    \n",
    "    return period"
   ]
  },
  {
   "cell_type": "code",
   "execution_count": 3,
   "id": "b163cb09",
   "metadata": {},
   "outputs": [],
   "source": [
    "def synodic_period(P1, P2):\n",
    "    '''\n",
    "    inputs:\n",
    "    P1: [float] period 1\n",
    "    P2: [float] period 2\n",
    "    \n",
    "    \n",
    "    outputs:\n",
    "    synodic period [float]\n",
    "    '''\n",
    "    \n",
    "    period = 1 / np.abs((1/P1) - (1/P2))\n",
    "    \n",
    "    return period"
   ]
  },
  {
   "cell_type": "code",
   "execution_count": 4,
   "id": "9f8d16c6",
   "metadata": {},
   "outputs": [],
   "source": [
    "def aliased_period(Pttv, Ptrans):\n",
    "    '''\n",
    "    inputs:\n",
    "    Pttv: [float] period of ttv signal\n",
    "    Ptrans: [float] period of transiting planet\n",
    "    \n",
    "    \n",
    "    outputs:\n",
    "    aliased_periods: [list] possible aliased periods\n",
    "    m_vals: [list] the m values corresponding with the aliased periods\n",
    "    '''\n",
    "    \n",
    "    \n",
    "    \n",
    "    aliased_periods = []\n",
    "    m_vals = []\n",
    "    for m in range(1, 30):\n",
    "        period_test_plus = 1 / np.abs((1/Pttv) + (m/Ptrans))\n",
    "        period_test_minus = 1 / np.abs((1/Pttv) - (m/Ptrans))\n",
    "        \n",
    "        if period_test_plus > 2*Ptrans:\n",
    "            aliased_periods.append(period_test_plus)\n",
    "            m_vals.append(m)\n",
    "            \n",
    "        if period_test_minus > 2*Ptrans:\n",
    "            aliased_periods.append(period_test_minus)\n",
    "            m_vals.append(-m)\n",
    "            \n",
    "    \n",
    "    return aliased_periods, m_vals\n",
    "            \n",
    "    \n",
    "    \n",
    "    "
   ]
  },
  {
   "cell_type": "code",
   "execution_count": 8,
   "id": "7f1f6e72",
   "metadata": {},
   "outputs": [],
   "source": [
    "#P_b 160.8842 from final SWIFT best mode\n",
    "#P_c 841.42 from final SWIFT best mode\n",
    "Pb = 160.8842\n",
    "Pc = 841.42\n",
    "\n",
    "j = 1\n",
    "k = 5\n",
    "k_chop = 2"
   ]
  },
  {
   "cell_type": "code",
   "execution_count": 21,
   "id": "8aa33356",
   "metadata": {},
   "outputs": [
    {
     "name": "stdout",
     "output_type": "stream",
     "text": [
      "5.0 % from 5:1 resonance\n"
     ]
    }
   ],
   "source": [
    "#determine how far from resonance in %\n",
    "print(str(round((((Pc/Pb)/(k/j)-1)*100), 0)) + ' % from 5:1 resonance')"
   ]
  },
  {
   "cell_type": "code",
   "execution_count": 7,
   "id": "e3292a18",
   "metadata": {},
   "outputs": [
    {
     "name": "stdout",
     "output_type": "stream",
     "text": [
      "5:1\n",
      "Psup =  22.741695721506026  [Ptrans]\n",
      "Psyn =  1.2364081360598518  [Ptrans]\n",
      "Psyn obs =  5.229972862468782  [Ptrans]\n",
      "Psyn obs =  841.42  [days]\n",
      "\n",
      "2:1\n",
      "Psup =  1.6192002487820687  [Ptrans]\n",
      "Psup obs =  2.614986431234391  [Ptrans]\n"
     ]
    }
   ],
   "source": [
    "print('5:1')\n",
    "print('Psup = ', super_period(Pb, Pc, j, k)/Pb, ' [Ptrans]')\n",
    "print('Psyn = ', synodic_period(Pb, Pc)/Pb, ' [Ptrans]')\n",
    "print('Psyn obs = ', aliased_period(synodic_period(Pb, Pc), Pb)[0][0]/Pb, ' [Ptrans]')\n",
    "print('Psyn obs = ', aliased_period(synodic_period(Pb, Pc), Pb)[0][0], ' [days]')\n",
    "\n",
    "\n",
    "print('')\n",
    "print('2:1')\n",
    "print('Psup = ', super_period(Pb, Pc, j, k_chop)/Pb, ' [Ptrans]')\n",
    "print('Psup obs = ', aliased_period(super_period(Pb, Pc, j, k_chop), Pb)[0][0]/Pb, ' [Ptrans]')\n",
    "\n"
   ]
  },
  {
   "cell_type": "code",
   "execution_count": 8,
   "id": "c249e916",
   "metadata": {},
   "outputs": [
    {
     "name": "stdout",
     "output_type": "stream",
     "text": [
      "Psup obs =  534.6101691252296  [days]\n",
      "Psup obs =  3.32294349465834  [Ptrans]\n"
     ]
    }
   ],
   "source": [
    "#stellar aliased period\n",
    "print('Psup obs = ', aliased_period(28.23, 160.88452)[0][0], ' [days]')\n",
    "print('Psup obs = ', aliased_period(28.23, 160.88452)[0][0]/160.88452, ' [Ptrans]')\n"
   ]
  },
  {
   "cell_type": "code",
   "execution_count": null,
   "id": "b82bc35e",
   "metadata": {},
   "outputs": [],
   "source": []
  }
 ],
 "metadata": {
  "kernelspec": {
   "display_name": "Python 3 (ipykernel)",
   "language": "python",
   "name": "python3"
  },
  "language_info": {
   "codemirror_mode": {
    "name": "ipython",
    "version": 3
   },
   "file_extension": ".py",
   "mimetype": "text/x-python",
   "name": "python",
   "nbconvert_exporter": "python",
   "pygments_lexer": "ipython3",
   "version": "3.9.7"
  }
 },
 "nbformat": 4,
 "nbformat_minor": 5
}
