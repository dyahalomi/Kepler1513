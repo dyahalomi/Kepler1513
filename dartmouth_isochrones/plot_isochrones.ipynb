{
 "cells": [
  {
   "cell_type": "code",
   "execution_count": 1,
   "id": "16db4b9e",
   "metadata": {},
   "outputs": [],
   "source": [
    "import numpy as np\n",
    "import pandas as pd\n",
    "import matplotlib.pyplot as plt"
   ]
  },
  {
   "cell_type": "code",
   "execution_count": 2,
   "id": "74457443",
   "metadata": {},
   "outputs": [
    {
     "data": {
      "text/html": [
       "<div>\n",
       "<style scoped>\n",
       "    .dataframe tbody tr th:only-of-type {\n",
       "        vertical-align: middle;\n",
       "    }\n",
       "\n",
       "    .dataframe tbody tr th {\n",
       "        vertical-align: top;\n",
       "    }\n",
       "\n",
       "    .dataframe thead th {\n",
       "        text-align: right;\n",
       "    }\n",
       "</style>\n",
       "<table border=\"1\" class=\"dataframe\">\n",
       "  <thead>\n",
       "    <tr style=\"text-align: right;\">\n",
       "      <th></th>\n",
       "      <th>teff</th>\n",
       "      <th>logg</th>\n",
       "      <th>feh</th>\n",
       "      <th>mstar</th>\n",
       "      <th>rstar</th>\n",
       "      <th>age</th>\n",
       "      <th>log10(luminosity)</th>\n",
       "      <th>dist</th>\n",
       "      <th>av_0</th>\n",
       "    </tr>\n",
       "  </thead>\n",
       "  <tbody>\n",
       "    <tr>\n",
       "      <th>0</th>\n",
       "      <td>5559.879921</td>\n",
       "      <td>4.504318</td>\n",
       "      <td>0.056227</td>\n",
       "      <td>0.954981</td>\n",
       "      <td>0.905466</td>\n",
       "      <td>9.589641</td>\n",
       "      <td>-0.152803</td>\n",
       "      <td>353.930241</td>\n",
       "      <td>0.266691</td>\n",
       "    </tr>\n",
       "    <tr>\n",
       "      <th>1</th>\n",
       "      <td>5559.879921</td>\n",
       "      <td>4.504318</td>\n",
       "      <td>0.056227</td>\n",
       "      <td>0.954981</td>\n",
       "      <td>0.905466</td>\n",
       "      <td>9.589641</td>\n",
       "      <td>-0.152803</td>\n",
       "      <td>353.930241</td>\n",
       "      <td>0.266691</td>\n",
       "    </tr>\n",
       "    <tr>\n",
       "      <th>2</th>\n",
       "      <td>5454.430485</td>\n",
       "      <td>4.495238</td>\n",
       "      <td>0.063247</td>\n",
       "      <td>0.918684</td>\n",
       "      <td>0.897425</td>\n",
       "      <td>9.777267</td>\n",
       "      <td>-0.193705</td>\n",
       "      <td>352.840074</td>\n",
       "      <td>0.284648</td>\n",
       "    </tr>\n",
       "    <tr>\n",
       "      <th>3</th>\n",
       "      <td>5454.766922</td>\n",
       "      <td>4.494862</td>\n",
       "      <td>0.062813</td>\n",
       "      <td>0.918534</td>\n",
       "      <td>0.897740</td>\n",
       "      <td>9.779264</td>\n",
       "      <td>-0.193301</td>\n",
       "      <td>352.862967</td>\n",
       "      <td>0.287549</td>\n",
       "    </tr>\n",
       "    <tr>\n",
       "      <th>4</th>\n",
       "      <td>5454.766922</td>\n",
       "      <td>4.494862</td>\n",
       "      <td>0.062813</td>\n",
       "      <td>0.918534</td>\n",
       "      <td>0.897740</td>\n",
       "      <td>9.779264</td>\n",
       "      <td>-0.193301</td>\n",
       "      <td>352.862967</td>\n",
       "      <td>0.287549</td>\n",
       "    </tr>\n",
       "    <tr>\n",
       "      <th>...</th>\n",
       "      <td>...</td>\n",
       "      <td>...</td>\n",
       "      <td>...</td>\n",
       "      <td>...</td>\n",
       "      <td>...</td>\n",
       "      <td>...</td>\n",
       "      <td>...</td>\n",
       "      <td>...</td>\n",
       "      <td>...</td>\n",
       "    </tr>\n",
       "    <tr>\n",
       "      <th>179995</th>\n",
       "      <td>5717.902949</td>\n",
       "      <td>4.468375</td>\n",
       "      <td>0.143187</td>\n",
       "      <td>1.017394</td>\n",
       "      <td>0.974071</td>\n",
       "      <td>9.516532</td>\n",
       "      <td>-0.040657</td>\n",
       "      <td>351.048374</td>\n",
       "      <td>0.732617</td>\n",
       "    </tr>\n",
       "    <tr>\n",
       "      <th>179996</th>\n",
       "      <td>5717.902949</td>\n",
       "      <td>4.468375</td>\n",
       "      <td>0.143187</td>\n",
       "      <td>1.017394</td>\n",
       "      <td>0.974071</td>\n",
       "      <td>9.516532</td>\n",
       "      <td>-0.040657</td>\n",
       "      <td>351.048374</td>\n",
       "      <td>0.732617</td>\n",
       "    </tr>\n",
       "    <tr>\n",
       "      <th>179997</th>\n",
       "      <td>5717.902949</td>\n",
       "      <td>4.468375</td>\n",
       "      <td>0.143187</td>\n",
       "      <td>1.017394</td>\n",
       "      <td>0.974071</td>\n",
       "      <td>9.516532</td>\n",
       "      <td>-0.040657</td>\n",
       "      <td>351.048374</td>\n",
       "      <td>0.732617</td>\n",
       "    </tr>\n",
       "    <tr>\n",
       "      <th>179998</th>\n",
       "      <td>5782.958457</td>\n",
       "      <td>4.382974</td>\n",
       "      <td>0.176975</td>\n",
       "      <td>1.034145</td>\n",
       "      <td>1.083522</td>\n",
       "      <td>9.734210</td>\n",
       "      <td>0.071443</td>\n",
       "      <td>351.109487</td>\n",
       "      <td>0.981028</td>\n",
       "    </tr>\n",
       "    <tr>\n",
       "      <th>179999</th>\n",
       "      <td>5790.695394</td>\n",
       "      <td>4.383028</td>\n",
       "      <td>0.179504</td>\n",
       "      <td>1.038192</td>\n",
       "      <td>1.085572</td>\n",
       "      <td>9.722011</td>\n",
       "      <td>0.075458</td>\n",
       "      <td>351.028573</td>\n",
       "      <td>0.996851</td>\n",
       "    </tr>\n",
       "  </tbody>\n",
       "</table>\n",
       "<p>180000 rows × 9 columns</p>\n",
       "</div>"
      ],
      "text/plain": [
       "               teff      logg       feh     mstar     rstar       age  \\\n",
       "0       5559.879921  4.504318  0.056227  0.954981  0.905466  9.589641   \n",
       "1       5559.879921  4.504318  0.056227  0.954981  0.905466  9.589641   \n",
       "2       5454.430485  4.495238  0.063247  0.918684  0.897425  9.777267   \n",
       "3       5454.766922  4.494862  0.062813  0.918534  0.897740  9.779264   \n",
       "4       5454.766922  4.494862  0.062813  0.918534  0.897740  9.779264   \n",
       "...             ...       ...       ...       ...       ...       ...   \n",
       "179995  5717.902949  4.468375  0.143187  1.017394  0.974071  9.516532   \n",
       "179996  5717.902949  4.468375  0.143187  1.017394  0.974071  9.516532   \n",
       "179997  5717.902949  4.468375  0.143187  1.017394  0.974071  9.516532   \n",
       "179998  5782.958457  4.382974  0.176975  1.034145  1.083522  9.734210   \n",
       "179999  5790.695394  4.383028  0.179504  1.038192  1.085572  9.722011   \n",
       "\n",
       "        log10(luminosity)        dist      av_0  \n",
       "0               -0.152803  353.930241  0.266691  \n",
       "1               -0.152803  353.930241  0.266691  \n",
       "2               -0.193705  352.840074  0.284648  \n",
       "3               -0.193301  352.862967  0.287549  \n",
       "4               -0.193301  352.862967  0.287549  \n",
       "...                   ...         ...       ...  \n",
       "179995          -0.040657  351.048374  0.732617  \n",
       "179996          -0.040657  351.048374  0.732617  \n",
       "179997          -0.040657  351.048374  0.732617  \n",
       "179998           0.071443  351.109487  0.981028  \n",
       "179999           0.075458  351.028573  0.996851  \n",
       "\n",
       "[180000 rows x 9 columns]"
      ]
     },
     "execution_count": 2,
     "metadata": {},
     "output_type": "execute_result"
    }
   ],
   "source": [
    "headers = ['teff', 'logg', 'feh', 'mstar', 'rstar', 'age', 'log10(luminosity)', 'dist', 'av_0']\n",
    "df = pd.read_csv('post.dat', sep='\\t', header=None)\n",
    "df.columns=headers\n",
    "\n",
    "\n",
    "df\n",
    "\n"
   ]
  },
  {
   "cell_type": "code",
   "execution_count": 5,
   "id": "d0fa3084",
   "metadata": {},
   "outputs": [
    {
     "name": "stdout",
     "output_type": "stream",
     "text": [
      "teff 5499.449176701423 86.24126251423787\n",
      "logg 4.455327974378579 0.06396535085547936\n",
      "feh 0.145412644412078 0.05573375261100847\n",
      "mstar 0.9430482957420044 0.036259022808532076\n",
      "rstar 0.9496963820287461 0.06639624622869236\n",
      "age 9.844310816776508 0.33669658255216495\n",
      "log10(luminosity) -0.1291140954666715 0.06951462136807818\n",
      "dist 351.5643342106878 1.6522114499065383\n",
      "av_0 0.3378014319688015 0.22748569283547257\n"
     ]
    }
   ],
   "source": [
    "for label in headers:\n",
    "    print(label, df[label].median(), df[label].std())\n",
    "\n"
   ]
  },
  {
   "cell_type": "code",
   "execution_count": 9,
   "id": "f1289007",
   "metadata": {},
   "outputs": [
    {
     "name": "stdout",
     "output_type": "stream",
     "text": [
      "luminosity 0.7428239616189349 0.12703531786737662\n",
      "age 6.98732295359362 3.6694807579291404\n"
     ]
    }
   ],
   "source": [
    "luminosity = 10**(df['log10(luminosity)'])\n",
    "print('luminosity', np.median(luminosity), np.std(luminosity))\n",
    "\n",
    "age = 10**(df['age'])\n",
    "print('age', np.median(age)/1e9, np.std(age)/1e9)"
   ]
  },
  {
   "cell_type": "code",
   "execution_count": 4,
   "id": "4ef99d35",
   "metadata": {},
   "outputs": [
    {
     "data": {
      "text/plain": [
       "0.9430482957420044"
      ]
     },
     "execution_count": 4,
     "metadata": {},
     "output_type": "execute_result"
    },
    {
     "data": {
      "image/png": "[encoded data removed]",
      "text/plain": [
       "<Figure size 432x288 with 1 Axes>"
      ]
     },
     "metadata": {
      "needs_background": "light"
     },
     "output_type": "display_data"
    }
   ],
   "source": [
    "plt.hist(df['mstar'], density=True)\n",
    "np.median(df['mstar'])"
   ]
  },
  {
   "cell_type": "code",
   "execution_count": 5,
   "id": "787d4cc6",
   "metadata": {},
   "outputs": [
    {
     "data": {
      "text/plain": [
       "0.9496963820287461"
      ]
     },
     "execution_count": 5,
     "metadata": {},
     "output_type": "execute_result"
    },
    {
     "data": {
      "image/png": "[encoded data removed]",
      "text/plain": [
       "<Figure size 432x288 with 1 Axes>"
      ]
     },
     "metadata": {
      "needs_background": "light"
     },
     "output_type": "display_data"
    }
   ],
   "source": [
    "plt.hist(df['rstar'], density=True)\n",
    "np.median(df['rstar'])"
   ]
  },
  {
   "cell_type": "code",
   "execution_count": null,
   "id": "a09aa823",
   "metadata": {},
   "outputs": [],
   "source": []
  }
 ],
 "metadata": {
  "kernelspec": {
   "display_name": "Python 3 (ipykernel)",
   "language": "python",
   "name": "python3"
  },
  "language_info": {
   "codemirror_mode": {
    "name": "ipython",
    "version": 3
   },
   "file_extension": ".py",
   "mimetype": "text/x-python",
   "name": "python",
   "nbconvert_exporter": "python",
   "pygments_lexer": "ipython3",
   "version": "3.9.7"
  }
 },
 "nbformat": 4,
 "nbformat_minor": 5
}
